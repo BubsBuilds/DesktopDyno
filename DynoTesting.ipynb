{
 "cells": [
  {
   "cell_type": "code",
   "execution_count": 3,
   "outputs": [
    {
     "ename": "JSONDecodeError",
     "evalue": "Expecting ':' delimiter: line 1 column 12 (char 11)",
     "output_type": "error",
     "traceback": [
      "\u001B[0;31m---------------------------------------------------------------------------\u001B[0m",
      "\u001B[0;31mJSONDecodeError\u001B[0m                           Traceback (most recent call last)",
      "Cell \u001B[0;32mIn[3], line 32\u001B[0m\n\u001B[1;32m     30\u001B[0m \u001B[38;5;28;01mwhile\u001B[39;00m \u001B[38;5;28;01mTrue\u001B[39;00m:\n\u001B[1;32m     31\u001B[0m     \u001B[38;5;28;01mif\u001B[39;00m ArComm\u001B[38;5;241m.\u001B[39mser\u001B[38;5;241m.\u001B[39minWaiting() \u001B[38;5;241m>\u001B[39m \u001B[38;5;241m0\u001B[39m:\n\u001B[0;32m---> 32\u001B[0m         curRes \u001B[38;5;241m=\u001B[39m ArComm\u001B[38;5;241m.\u001B[39mreceive_response()\n\u001B[1;32m     33\u001B[0m         results\u001B[38;5;241m.\u001B[39mappend(curRes)\n\u001B[1;32m     34\u001B[0m         \u001B[38;5;28mprint\u001B[39m(curRes)\n",
      "Cell \u001B[0;32mIn[3], line 19\u001B[0m, in \u001B[0;36mArduinoComm.receive_response\u001B[0;34m(self)\u001B[0m\n\u001B[1;32m     17\u001B[0m \u001B[38;5;28;01mdef\u001B[39;00m \u001B[38;5;21mreceive_response\u001B[39m(\u001B[38;5;28mself\u001B[39m):\n\u001B[1;32m     18\u001B[0m     raw_data \u001B[38;5;241m=\u001B[39m \u001B[38;5;28mself\u001B[39m\u001B[38;5;241m.\u001B[39mser\u001B[38;5;241m.\u001B[39mreadline()\u001B[38;5;241m.\u001B[39mdecode()\u001B[38;5;241m.\u001B[39mstrip()\n\u001B[0;32m---> 19\u001B[0m     response \u001B[38;5;241m=\u001B[39m json\u001B[38;5;241m.\u001B[39mloads(raw_data)\n\u001B[1;32m     20\u001B[0m     \u001B[38;5;28;01mreturn\u001B[39;00m response\n",
      "File \u001B[0;32m~/anaconda3/envs/DesktopDyno/lib/python3.11/json/__init__.py:346\u001B[0m, in \u001B[0;36mloads\u001B[0;34m(s, cls, object_hook, parse_float, parse_int, parse_constant, object_pairs_hook, **kw)\u001B[0m\n\u001B[1;32m    341\u001B[0m     s \u001B[38;5;241m=\u001B[39m s\u001B[38;5;241m.\u001B[39mdecode(detect_encoding(s), \u001B[38;5;124m'\u001B[39m\u001B[38;5;124msurrogatepass\u001B[39m\u001B[38;5;124m'\u001B[39m)\n\u001B[1;32m    343\u001B[0m \u001B[38;5;28;01mif\u001B[39;00m (\u001B[38;5;28mcls\u001B[39m \u001B[38;5;129;01mis\u001B[39;00m \u001B[38;5;28;01mNone\u001B[39;00m \u001B[38;5;129;01mand\u001B[39;00m object_hook \u001B[38;5;129;01mis\u001B[39;00m \u001B[38;5;28;01mNone\u001B[39;00m \u001B[38;5;129;01mand\u001B[39;00m\n\u001B[1;32m    344\u001B[0m         parse_int \u001B[38;5;129;01mis\u001B[39;00m \u001B[38;5;28;01mNone\u001B[39;00m \u001B[38;5;129;01mand\u001B[39;00m parse_float \u001B[38;5;129;01mis\u001B[39;00m \u001B[38;5;28;01mNone\u001B[39;00m \u001B[38;5;129;01mand\u001B[39;00m\n\u001B[1;32m    345\u001B[0m         parse_constant \u001B[38;5;129;01mis\u001B[39;00m \u001B[38;5;28;01mNone\u001B[39;00m \u001B[38;5;129;01mand\u001B[39;00m object_pairs_hook \u001B[38;5;129;01mis\u001B[39;00m \u001B[38;5;28;01mNone\u001B[39;00m \u001B[38;5;129;01mand\u001B[39;00m \u001B[38;5;129;01mnot\u001B[39;00m kw):\n\u001B[0;32m--> 346\u001B[0m     \u001B[38;5;28;01mreturn\u001B[39;00m _default_decoder\u001B[38;5;241m.\u001B[39mdecode(s)\n\u001B[1;32m    347\u001B[0m \u001B[38;5;28;01mif\u001B[39;00m \u001B[38;5;28mcls\u001B[39m \u001B[38;5;129;01mis\u001B[39;00m \u001B[38;5;28;01mNone\u001B[39;00m:\n\u001B[1;32m    348\u001B[0m     \u001B[38;5;28mcls\u001B[39m \u001B[38;5;241m=\u001B[39m JSONDecoder\n",
      "File \u001B[0;32m~/anaconda3/envs/DesktopDyno/lib/python3.11/json/decoder.py:337\u001B[0m, in \u001B[0;36mJSONDecoder.decode\u001B[0;34m(self, s, _w)\u001B[0m\n\u001B[1;32m    332\u001B[0m \u001B[38;5;28;01mdef\u001B[39;00m \u001B[38;5;21mdecode\u001B[39m(\u001B[38;5;28mself\u001B[39m, s, _w\u001B[38;5;241m=\u001B[39mWHITESPACE\u001B[38;5;241m.\u001B[39mmatch):\n\u001B[1;32m    333\u001B[0m \u001B[38;5;250m    \u001B[39m\u001B[38;5;124;03m\"\"\"Return the Python representation of ``s`` (a ``str`` instance\u001B[39;00m\n\u001B[1;32m    334\u001B[0m \u001B[38;5;124;03m    containing a JSON document).\u001B[39;00m\n\u001B[1;32m    335\u001B[0m \n\u001B[1;32m    336\u001B[0m \u001B[38;5;124;03m    \"\"\"\u001B[39;00m\n\u001B[0;32m--> 337\u001B[0m     obj, end \u001B[38;5;241m=\u001B[39m \u001B[38;5;28mself\u001B[39m\u001B[38;5;241m.\u001B[39mraw_decode(s, idx\u001B[38;5;241m=\u001B[39m_w(s, \u001B[38;5;241m0\u001B[39m)\u001B[38;5;241m.\u001B[39mend())\n\u001B[1;32m    338\u001B[0m     end \u001B[38;5;241m=\u001B[39m _w(s, end)\u001B[38;5;241m.\u001B[39mend()\n\u001B[1;32m    339\u001B[0m     \u001B[38;5;28;01mif\u001B[39;00m end \u001B[38;5;241m!=\u001B[39m \u001B[38;5;28mlen\u001B[39m(s):\n",
      "File \u001B[0;32m~/anaconda3/envs/DesktopDyno/lib/python3.11/json/decoder.py:353\u001B[0m, in \u001B[0;36mJSONDecoder.raw_decode\u001B[0;34m(self, s, idx)\u001B[0m\n\u001B[1;32m    344\u001B[0m \u001B[38;5;250m\u001B[39m\u001B[38;5;124;03m\"\"\"Decode a JSON document from ``s`` (a ``str`` beginning with\u001B[39;00m\n\u001B[1;32m    345\u001B[0m \u001B[38;5;124;03ma JSON document) and return a 2-tuple of the Python\u001B[39;00m\n\u001B[1;32m    346\u001B[0m \u001B[38;5;124;03mrepresentation and the index in ``s`` where the document ended.\u001B[39;00m\n\u001B[0;32m   (...)\u001B[0m\n\u001B[1;32m    350\u001B[0m \n\u001B[1;32m    351\u001B[0m \u001B[38;5;124;03m\"\"\"\u001B[39;00m\n\u001B[1;32m    352\u001B[0m \u001B[38;5;28;01mtry\u001B[39;00m:\n\u001B[0;32m--> 353\u001B[0m     obj, end \u001B[38;5;241m=\u001B[39m \u001B[38;5;28mself\u001B[39m\u001B[38;5;241m.\u001B[39mscan_once(s, idx)\n\u001B[1;32m    354\u001B[0m \u001B[38;5;28;01mexcept\u001B[39;00m \u001B[38;5;167;01mStopIteration\u001B[39;00m \u001B[38;5;28;01mas\u001B[39;00m err:\n\u001B[1;32m    355\u001B[0m     \u001B[38;5;28;01mraise\u001B[39;00m JSONDecodeError(\u001B[38;5;124m\"\u001B[39m\u001B[38;5;124mExpecting value\u001B[39m\u001B[38;5;124m\"\u001B[39m, s, err\u001B[38;5;241m.\u001B[39mvalue) \u001B[38;5;28;01mfrom\u001B[39;00m \u001B[38;5;28;01mNone\u001B[39;00m\n",
      "\u001B[0;31mJSONDecodeError\u001B[0m: Expecting ':' delimiter: line 1 column 12 (char 11)"
     ]
    }
   ],
   "source": [
    "'''Testing the json data retrieval from encoder MCU'''\n",
    "import serial\n",
    "import time\n",
    "import json\n",
    "\n",
    "\n",
    "class ArduinoComm:\n",
    "    def __init__(self, port, baudrate=9600):\n",
    "        self.ser = serial.Serial(port, baudrate)\n",
    "        time.sleep(2)  # Give some time for the connection to be established\n",
    "\n",
    "    def send(self, command, data=None):\n",
    "        msg = {\"command\": command, \"data\": data}\n",
    "        encoded_msg = json.dumps(msg).encode()\n",
    "        self.ser.write(encoded_msg)\n",
    "        return self.receive_response()\n",
    "\n",
    "    def receive_response(self):\n",
    "        raw_data = self.ser.readline().decode().strip()\n",
    "        response = json.loads(raw_data)\n",
    "        return response\n",
    "\n",
    "    def close(self):\n",
    "        self.ser.close()\n",
    "\n",
    "\n",
    "# Press the green button in the gutter to run the script.\n",
    "if __name__ == '__main__':\n",
    "    results = []\n",
    "    ArComm = ArduinoComm(port = '/dev/ttyACM0', baudrate=250000)\n",
    "    while True:\n",
    "        if ArComm.ser.inWaiting() > 0:\n",
    "            curRes = ArComm.receive_response()\n",
    "            results.append(curRes)\n",
    "            print(curRes)\n",
    "            time.sleep(0.005)\n",
    "\n",
    "\n",
    "# See PyCharm help at https://www.jetbrains.com/help/pycharm/\n"
   ],
   "metadata": {
    "collapsed": false,
    "ExecuteTime": {
     "end_time": "2023-10-05T04:10:35.802930816Z",
     "start_time": "2023-10-05T04:10:32.575855084Z"
    }
   },
   "id": "434f14903b7e9498"
  },
  {
   "cell_type": "code",
   "execution_count": null,
   "outputs": [],
   "source": [
    "'''Testing the parsing and downstream data flow'''\n",
    "SampleRet1 = {\"id\":\"R\",\"754\":16594556,\"755\":16606596,\"756\":16606608,\"757\":16616012,\"758\":16637960,\"759\":16659908,\"760\":16681596,\"761\":16703448,\"762\":16725080,\"763\":16746968,\"764\":16768756,\"765\":16789212,\"766\":16809096,\"767\":16829584,\"768\":16850396,\"769\":16862080,\"770\":16862096,\"771\":16871080,\"772\":16882628,\"773\":16882644,\"774\":16891676,\"775\":16912760,\"776\":16935064,\"777\":16958652,\"778\":16983708,\"779\":17010552,\"780\":17039580,\"781\":17071224,\"782\":17105936}\n"
   ],
   "metadata": {
    "collapsed": false
   },
   "id": "e40cf1da01a632ec"
  },
  {
   "cell_type": "code",
   "execution_count": 5,
   "outputs": [
    {
     "name": "stdout",
     "output_type": "stream",
     "text": [
      "[2, 4, 10, 213]\n"
     ]
    }
   ],
   "source": [
    "test = [5, 2, 4, 10, 213]\n",
    "print(test[1:])"
   ],
   "metadata": {
    "collapsed": false,
    "ExecuteTime": {
     "end_time": "2023-10-07T18:14:27.035624337Z",
     "start_time": "2023-10-07T18:14:27.030522815Z"
    }
   },
   "id": "7e5c9ddc9fbe3918"
  },
  {
   "cell_type": "code",
   "execution_count": null,
   "outputs": [],
   "source": [],
   "metadata": {
    "collapsed": false
   },
   "id": "928c11953e1e3a83"
  }
 ],
 "metadata": {
  "kernelspec": {
   "display_name": "Python 3",
   "language": "python",
   "name": "python3"
  },
  "language_info": {
   "codemirror_mode": {
    "name": "ipython",
    "version": 2
   },
   "file_extension": ".py",
   "mimetype": "text/x-python",
   "name": "python",
   "nbconvert_exporter": "python",
   "pygments_lexer": "ipython2",
   "version": "2.7.6"
  }
 },
 "nbformat": 4,
 "nbformat_minor": 5
}
